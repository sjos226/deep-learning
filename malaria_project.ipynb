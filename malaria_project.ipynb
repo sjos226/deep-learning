{
  "cells": [
    {
      "cell_type": "code",
      "execution_count": null,
      "metadata": {
        "id": "xtescfTGsC2e"
      },
      "outputs": [],
      "source": [
        "# import the libraries as shown below\n",
        "from tensorflow.keras.layers import Input, Lambda, Dense, Flatten,Conv2D\n",
        "from tensorflow.keras.models import Model\n",
        "from tensorflow.keras.applications.vgg19 import VGG19\n",
        "from tensorflow.keras.applications.resnet50 import preprocess_input\n",
        "from tensorflow.keras.preprocessing import image\n",
        "from tensorflow.keras.preprocessing.image import ImageDataGenerator,load_img\n",
        "from tensorflow.keras.models import Sequential\n",
        "import numpy as np\n",
        "from glob import glob\n",
        "import matplotlib.pyplot as plt"
      ]
    },
    {
      "cell_type": "code",
      "execution_count": null,
      "metadata": {
        "id": "1ubarDmEsZFK"
      },
      "outputs": [],
      "source": [
        "# re-size all the images to this\n",
        "IMAGE_SIZE = [224, 224]\n",
        "\n",
        "train_path = 'cell_images/Train'\n",
        "valid_path = 'cell_images/Test'"
      ]
    },
    {
      "cell_type": "code",
      "execution_count": null,
      "metadata": {
        "colab": {
          "base_uri": "https://localhost:8080/"
        },
        "id": "4G_1qunPsbcP",
        "outputId": "2badeffd-0b28-452c-c1d0-6ab74b2a3526"
      },
      "outputs": [
        {
          "output_type": "stream",
          "name": "stdout",
          "text": [
            "Downloading data from https://storage.googleapis.com/tensorflow/keras-applications/vgg19/vgg19_weights_tf_dim_ordering_tf_kernels_notop.h5\n",
            "80142336/80134624 [==============================] - 0s 0us/step\n",
            "80150528/80134624 [==============================] - 0s 0us/step\n"
          ]
        }
      ],
      "source": [
        "# Import the Vgg 19 library as shown below and add preprocessing layer to the front of VGG\n",
        "# Here we will be using imagenet weights\n",
        "mobilnet = VGG19(input_shape=IMAGE_SIZE + [3], weights='imagenet', include_top=False)"
      ]
    },
    {
      "cell_type": "code",
      "execution_count": null,
      "metadata": {
        "id": "rPiycAgUset3"
      },
      "outputs": [],
      "source": [
        "# don't train existing weights\n",
        "for layer in mobilnet.layers:\n",
        "    layer.trainable = False"
      ]
    },
    {
      "cell_type": "code",
      "execution_count": null,
      "metadata": {
        "id": "GGwx_yZSsil9"
      },
      "outputs": [],
      "source": [
        "  # useful for getting number of output classes\n",
        "folders = glob('/content/drive/MyDrive/Dataset/Train')"
      ]
    },
    {
      "cell_type": "code",
      "execution_count": null,
      "metadata": {
        "colab": {
          "base_uri": "https://localhost:8080/"
        },
        "id": "ueq4mH_fszqS",
        "outputId": "cf02238f-4f57-44c7-a748-12507ebbf041"
      },
      "outputs": [
        {
          "output_type": "execute_result",
          "data": {
            "text/plain": [
              "['/content/drive/MyDrive/Dataset/Train']"
            ]
          },
          "metadata": {},
          "execution_count": 6
        }
      ],
      "source": [
        "folders"
      ]
    },
    {
      "cell_type": "code",
      "execution_count": null,
      "metadata": {
        "id": "DRast_7ws0YS"
      },
      "outputs": [],
      "source": [
        "# our layers - you can add more if you want\n",
        "x = Flatten()(mobilnet.output)"
      ]
    },
    {
      "cell_type": "code",
      "execution_count": null,
      "metadata": {
        "id": "QMgIGvMys0aw"
      },
      "outputs": [],
      "source": [
        "prediction = Dense(len(folders), activation='softmax')(x)\n",
        "\n",
        "# create a model object\n",
        "model = Model(inputs=mobilnet.input, outputs=prediction)"
      ]
    },
    {
      "cell_type": "code",
      "execution_count": null,
      "metadata": {
        "colab": {
          "base_uri": "https://localhost:8080/"
        },
        "id": "gmGiDCohs0gw",
        "outputId": "4066995b-58e0-456d-83a6-c7b69443d372"
      },
      "outputs": [
        {
          "output_type": "stream",
          "name": "stdout",
          "text": [
            "Model: \"model\"\n",
            "_________________________________________________________________\n",
            " Layer (type)                Output Shape              Param #   \n",
            "=================================================================\n",
            " input_1 (InputLayer)        [(None, 224, 224, 3)]     0         \n",
            "                                                                 \n",
            " block1_conv1 (Conv2D)       (None, 224, 224, 64)      1792      \n",
            "                                                                 \n",
            " block1_conv2 (Conv2D)       (None, 224, 224, 64)      36928     \n",
            "                                                                 \n",
            " block1_pool (MaxPooling2D)  (None, 112, 112, 64)      0         \n",
            "                                                                 \n",
            " block2_conv1 (Conv2D)       (None, 112, 112, 128)     73856     \n",
            "                                                                 \n",
            " block2_conv2 (Conv2D)       (None, 112, 112, 128)     147584    \n",
            "                                                                 \n",
            " block2_pool (MaxPooling2D)  (None, 56, 56, 128)       0         \n",
            "                                                                 \n",
            " block3_conv1 (Conv2D)       (None, 56, 56, 256)       295168    \n",
            "                                                                 \n",
            " block3_conv2 (Conv2D)       (None, 56, 56, 256)       590080    \n",
            "                                                                 \n",
            " block3_conv3 (Conv2D)       (None, 56, 56, 256)       590080    \n",
            "                                                                 \n",
            " block3_conv4 (Conv2D)       (None, 56, 56, 256)       590080    \n",
            "                                                                 \n",
            " block3_pool (MaxPooling2D)  (None, 28, 28, 256)       0         \n",
            "                                                                 \n",
            " block4_conv1 (Conv2D)       (None, 28, 28, 512)       1180160   \n",
            "                                                                 \n",
            " block4_conv2 (Conv2D)       (None, 28, 28, 512)       2359808   \n",
            "                                                                 \n",
            " block4_conv3 (Conv2D)       (None, 28, 28, 512)       2359808   \n",
            "                                                                 \n",
            " block4_conv4 (Conv2D)       (None, 28, 28, 512)       2359808   \n",
            "                                                                 \n",
            " block4_pool (MaxPooling2D)  (None, 14, 14, 512)       0         \n",
            "                                                                 \n",
            " block5_conv1 (Conv2D)       (None, 14, 14, 512)       2359808   \n",
            "                                                                 \n",
            " block5_conv2 (Conv2D)       (None, 14, 14, 512)       2359808   \n",
            "                                                                 \n",
            " block5_conv3 (Conv2D)       (None, 14, 14, 512)       2359808   \n",
            "                                                                 \n",
            " block5_conv4 (Conv2D)       (None, 14, 14, 512)       2359808   \n",
            "                                                                 \n",
            " block5_pool (MaxPooling2D)  (None, 7, 7, 512)         0         \n",
            "                                                                 \n",
            " flatten (Flatten)           (None, 25088)             0         \n",
            "                                                                 \n",
            " dense (Dense)               (None, 1)                 25089     \n",
            "                                                                 \n",
            "=================================================================\n",
            "Total params: 20,049,473\n",
            "Trainable params: 25,089\n",
            "Non-trainable params: 20,024,384\n",
            "_________________________________________________________________\n"
          ]
        }
      ],
      "source": [
        "# view the structure of the model\n",
        "model.summary()"
      ]
    },
    {
      "cell_type": "code",
      "execution_count": null,
      "metadata": {
        "id": "LGrlbp9as0i_"
      },
      "outputs": [],
      "source": [
        "from tensorflow.keras.layers import MaxPooling2D"
      ]
    },
    {
      "cell_type": "code",
      "execution_count": null,
      "metadata": {
        "colab": {
          "base_uri": "https://localhost:8080/"
        },
        "id": "0FKjVqIQs0lR",
        "outputId": "6aaf1c17-2918-4ce2-cf9d-e2e415878537"
      },
      "outputs": [
        {
          "output_type": "stream",
          "name": "stdout",
          "text": [
            "Model: \"sequential\"\n",
            "_________________________________________________________________\n",
            " Layer (type)                Output Shape              Param #   \n",
            "=================================================================\n",
            " conv2d (Conv2D)             (None, 224, 224, 16)      208       \n",
            "                                                                 \n",
            " max_pooling2d (MaxPooling2D  (None, 112, 112, 16)     0         \n",
            " )                                                               \n",
            "                                                                 \n",
            " conv2d_1 (Conv2D)           (None, 112, 112, 32)      2080      \n",
            "                                                                 \n",
            " max_pooling2d_1 (MaxPooling  (None, 56, 56, 32)       0         \n",
            " 2D)                                                             \n",
            "                                                                 \n",
            " conv2d_2 (Conv2D)           (None, 56, 56, 64)        8256      \n",
            "                                                                 \n",
            " max_pooling2d_2 (MaxPooling  (None, 28, 28, 64)       0         \n",
            " 2D)                                                             \n",
            "                                                                 \n",
            " flatten_1 (Flatten)         (None, 50176)             0         \n",
            "                                                                 \n",
            " dense_1 (Dense)             (None, 500)               25088500  \n",
            "                                                                 \n",
            " dense_2 (Dense)             (None, 2)                 1002      \n",
            "                                                                 \n",
            "=================================================================\n",
            "Total params: 25,100,046\n",
            "Trainable params: 25,100,046\n",
            "Non-trainable params: 0\n",
            "_________________________________________________________________\n"
          ]
        }
      ],
      "source": [
        "### Create Model from scratch using CNN\n",
        "model=Sequential()\n",
        "model.add(Conv2D(filters=16,kernel_size=2,padding=\"same\",activation=\"relu\",input_shape=(224,224,3)))\n",
        "model.add(MaxPooling2D(pool_size=2))\n",
        "model.add(Conv2D(filters=32,kernel_size=2,padding=\"same\",activation =\"relu\"))\n",
        "model.add(MaxPooling2D(pool_size=2))\n",
        "model.add(Conv2D(filters=64,kernel_size=2,padding=\"same\",activation=\"relu\"))\n",
        "model.add(MaxPooling2D(pool_size=2))\n",
        "model.add(Flatten())\n",
        "model.add(Dense(500,activation=\"relu\"))\n",
        "model.add(Dense(2,activation=\"softmax\"))\n",
        "model.summary()"
      ]
    },
    {
      "cell_type": "code",
      "execution_count": null,
      "metadata": {
        "id": "wj87WUT0s0nb"
      },
      "outputs": [],
      "source": [
        "# tell the model what cost and optimization method to use\n",
        "model.compile(\n",
        "  loss='categorical_crossentropy',\n",
        "  optimizer='adam',\n",
        "  metrics=['accuracy']\n",
        ")"
      ]
    },
    {
      "cell_type": "code",
      "execution_count": null,
      "metadata": {
        "id": "ORqLOT7Hs0pq"
      },
      "outputs": [],
      "source": [
        "# Use the Image Data Generator to import the images from the dataset\n",
        "from tensorflow.keras.preprocessing.image import ImageDataGenerator\n",
        "\n",
        "train_datagen = ImageDataGenerator(rescale = 1./255,\n",
        "                                   shear_range = 0.2,\n",
        "                                   zoom_range = 0.2,\n",
        "                                   horizontal_flip = True)\n",
        "\n",
        "test_datagen = ImageDataGenerator(rescale = 1./255)"
      ]
    },
    {
      "cell_type": "code",
      "execution_count": null,
      "metadata": {
        "colab": {
          "base_uri": "https://localhost:8080/"
        },
        "id": "c-5W13dJs0rl",
        "outputId": "8fa9ca03-52da-4da0-ea7d-33843b7c6b4b"
      },
      "outputs": [
        {
          "output_type": "stream",
          "name": "stdout",
          "text": [
            "Found 416 images belonging to 2 classes.\n"
          ]
        }
      ],
      "source": [
        "# Make sure you provide the same target size as initialied for the image size\n",
        "training_set = train_datagen.flow_from_directory('/content/drive/MyDrive/Dataset/Train',\n",
        "                                                 target_size = (224, 224),\n",
        "                                                 batch_size = 32,\n",
        "                                                 class_mode = 'categorical')"
      ]
    },
    {
      "cell_type": "code",
      "execution_count": null,
      "metadata": {
        "colab": {
          "base_uri": "https://localhost:8080/"
        },
        "id": "cQAbT7fCvreg",
        "outputId": "f7166a26-c92c-4d81-8009-30ca456a3beb"
      },
      "outputs": [
        {
          "output_type": "execute_result",
          "data": {
            "text/plain": [
              "<keras.preprocessing.image.DirectoryIterator at 0x7f6c2b2a2210>"
            ]
          },
          "metadata": {},
          "execution_count": 15
        }
      ],
      "source": [
        "training_set"
      ]
    },
    {
      "cell_type": "code",
      "execution_count": null,
      "metadata": {
        "colab": {
          "base_uri": "https://localhost:8080/"
        },
        "id": "Kaf-nb_4vwOU",
        "outputId": "236415ed-2471-4682-b4b7-a082b2121aa7"
      },
      "outputs": [
        {
          "output_type": "stream",
          "name": "stdout",
          "text": [
            "Found 134 images belonging to 2 classes.\n"
          ]
        }
      ],
      "source": [
        "test_set = test_datagen.flow_from_directory('/content/drive/MyDrive/Dataset/Test',\n",
        "                                            target_size = (224, 224),\n",
        "                                            batch_size = 32,\n",
        "                                            class_mode = 'categorical')\n"
      ]
    },
    {
      "cell_type": "code",
      "execution_count": null,
      "metadata": {
        "colab": {
          "base_uri": "https://localhost:8080/"
        },
        "id": "zaSQO9nfv3jL",
        "outputId": "07275360-87e8-4d24-99a1-2a8635978612"
      },
      "outputs": [
        {
          "output_type": "stream",
          "name": "stderr",
          "text": [
            "/usr/local/lib/python3.7/dist-packages/ipykernel_launcher.py:8: UserWarning: `Model.fit_generator` is deprecated and will be removed in a future version. Please use `Model.fit`, which supports generators.\n",
            "  \n"
          ]
        },
        {
          "output_type": "stream",
          "name": "stdout",
          "text": [
            "Epoch 1/50\n",
            "13/13 [==============================] - 21s 2s/step - loss: 0.2037 - accuracy: 0.9303 - val_loss: 0.6306 - val_accuracy: 0.7164\n",
            "Epoch 2/50\n",
            "13/13 [==============================] - 21s 2s/step - loss: 0.1804 - accuracy: 0.9447 - val_loss: 0.4109 - val_accuracy: 0.7910\n",
            "Epoch 3/50\n",
            "13/13 [==============================] - 21s 2s/step - loss: 0.1454 - accuracy: 0.9543 - val_loss: 0.7230 - val_accuracy: 0.7090\n",
            "Epoch 4/50\n",
            "13/13 [==============================] - 21s 2s/step - loss: 0.1399 - accuracy: 0.9543 - val_loss: 0.8368 - val_accuracy: 0.6866\n",
            "Epoch 5/50\n",
            "13/13 [==============================] - 21s 2s/step - loss: 0.1538 - accuracy: 0.9543 - val_loss: 0.3834 - val_accuracy: 0.8134\n",
            "Epoch 6/50\n",
            "13/13 [==============================] - 21s 2s/step - loss: 0.1431 - accuracy: 0.9495 - val_loss: 0.4744 - val_accuracy: 0.7910\n",
            "Epoch 7/50\n",
            "13/13 [==============================] - 21s 2s/step - loss: 0.1683 - accuracy: 0.9399 - val_loss: 0.5819 - val_accuracy: 0.7463\n",
            "Epoch 8/50\n",
            "13/13 [==============================] - 21s 2s/step - loss: 0.1526 - accuracy: 0.9399 - val_loss: 0.3866 - val_accuracy: 0.8134\n",
            "Epoch 9/50\n",
            "13/13 [==============================] - 21s 2s/step - loss: 0.1664 - accuracy: 0.9471 - val_loss: 0.5193 - val_accuracy: 0.8060\n",
            "Epoch 10/50\n",
            "13/13 [==============================] - 21s 2s/step - loss: 0.1591 - accuracy: 0.9351 - val_loss: 0.9008 - val_accuracy: 0.5970\n",
            "Epoch 11/50\n",
            "13/13 [==============================] - 21s 2s/step - loss: 0.1653 - accuracy: 0.9495 - val_loss: 0.4117 - val_accuracy: 0.8433\n",
            "Epoch 12/50\n",
            "13/13 [==============================] - 21s 2s/step - loss: 0.1280 - accuracy: 0.9615 - val_loss: 0.4876 - val_accuracy: 0.8284\n",
            "Epoch 13/50\n",
            "13/13 [==============================] - 21s 2s/step - loss: 0.0993 - accuracy: 0.9639 - val_loss: 0.2757 - val_accuracy: 0.8955\n",
            "Epoch 14/50\n",
            "13/13 [==============================] - 21s 2s/step - loss: 0.0939 - accuracy: 0.9615 - val_loss: 0.3054 - val_accuracy: 0.8731\n",
            "Epoch 15/50\n",
            "13/13 [==============================] - 21s 2s/step - loss: 0.0916 - accuracy: 0.9736 - val_loss: 0.3629 - val_accuracy: 0.8433\n",
            "Epoch 16/50\n",
            "13/13 [==============================] - 21s 2s/step - loss: 0.0799 - accuracy: 0.9808 - val_loss: 0.5775 - val_accuracy: 0.7836\n",
            "Epoch 17/50\n",
            "13/13 [==============================] - 21s 2s/step - loss: 0.1010 - accuracy: 0.9688 - val_loss: 0.2872 - val_accuracy: 0.9179\n",
            "Epoch 18/50\n",
            "13/13 [==============================] - 21s 2s/step - loss: 0.0792 - accuracy: 0.9784 - val_loss: 0.2461 - val_accuracy: 0.8955\n",
            "Epoch 19/50\n",
            "13/13 [==============================] - 21s 2s/step - loss: 0.1108 - accuracy: 0.9760 - val_loss: 0.4001 - val_accuracy: 0.8507\n",
            "Epoch 20/50\n",
            "13/13 [==============================] - 21s 2s/step - loss: 0.0703 - accuracy: 0.9808 - val_loss: 0.5059 - val_accuracy: 0.8433\n",
            "Epoch 21/50\n",
            "13/13 [==============================] - 21s 2s/step - loss: 0.0899 - accuracy: 0.9663 - val_loss: 0.3253 - val_accuracy: 0.8657\n",
            "Epoch 22/50\n",
            "13/13 [==============================] - 21s 2s/step - loss: 0.0760 - accuracy: 0.9736 - val_loss: 0.2875 - val_accuracy: 0.8955\n",
            "Epoch 23/50\n",
            "13/13 [==============================] - 21s 2s/step - loss: 0.0723 - accuracy: 0.9856 - val_loss: 0.3817 - val_accuracy: 0.8657\n",
            "Epoch 24/50\n",
            "13/13 [==============================] - 21s 2s/step - loss: 0.0660 - accuracy: 0.9760 - val_loss: 0.2795 - val_accuracy: 0.9030\n",
            "Epoch 25/50\n",
            "13/13 [==============================] - 21s 2s/step - loss: 0.0586 - accuracy: 0.9784 - val_loss: 0.2877 - val_accuracy: 0.8955\n",
            "Epoch 26/50\n",
            "13/13 [==============================] - 21s 2s/step - loss: 0.0663 - accuracy: 0.9784 - val_loss: 0.5304 - val_accuracy: 0.8507\n",
            "Epoch 27/50\n",
            "13/13 [==============================] - 21s 2s/step - loss: 0.1256 - accuracy: 0.9471 - val_loss: 0.2879 - val_accuracy: 0.8806\n",
            "Epoch 28/50\n",
            "13/13 [==============================] - 21s 2s/step - loss: 0.0747 - accuracy: 0.9832 - val_loss: 0.2977 - val_accuracy: 0.8806\n",
            "Epoch 29/50\n",
            "13/13 [==============================] - 21s 2s/step - loss: 0.0634 - accuracy: 0.9808 - val_loss: 0.3559 - val_accuracy: 0.8657\n",
            "Epoch 30/50\n",
            "13/13 [==============================] - 21s 2s/step - loss: 0.0785 - accuracy: 0.9688 - val_loss: 0.3168 - val_accuracy: 0.8731\n",
            "Epoch 31/50\n",
            "13/13 [==============================] - 21s 2s/step - loss: 0.0463 - accuracy: 0.9928 - val_loss: 0.2485 - val_accuracy: 0.8955\n",
            "Epoch 32/50\n",
            "13/13 [==============================] - 21s 2s/step - loss: 0.0499 - accuracy: 0.9856 - val_loss: 0.4787 - val_accuracy: 0.8582\n",
            "Epoch 33/50\n",
            "13/13 [==============================] - 21s 2s/step - loss: 0.0589 - accuracy: 0.9856 - val_loss: 0.4115 - val_accuracy: 0.8657\n",
            "Epoch 34/50\n",
            "13/13 [==============================] - 21s 2s/step - loss: 0.0830 - accuracy: 0.9639 - val_loss: 0.6471 - val_accuracy: 0.8134\n",
            "Epoch 35/50\n",
            "13/13 [==============================] - 21s 2s/step - loss: 0.1259 - accuracy: 0.9423 - val_loss: 0.4494 - val_accuracy: 0.8507\n",
            "Epoch 36/50\n",
            "13/13 [==============================] - 21s 2s/step - loss: 0.0793 - accuracy: 0.9808 - val_loss: 0.2507 - val_accuracy: 0.8955\n",
            "Epoch 37/50\n",
            "13/13 [==============================] - 21s 2s/step - loss: 0.1109 - accuracy: 0.9760 - val_loss: 0.4265 - val_accuracy: 0.8209\n",
            "Epoch 38/50\n",
            "13/13 [==============================] - 21s 2s/step - loss: 0.1257 - accuracy: 0.9543 - val_loss: 0.4631 - val_accuracy: 0.8507\n",
            "Epoch 39/50\n",
            "13/13 [==============================] - 21s 2s/step - loss: 0.1025 - accuracy: 0.9688 - val_loss: 0.4833 - val_accuracy: 0.8433\n",
            "Epoch 40/50\n",
            "13/13 [==============================] - 21s 2s/step - loss: 0.0732 - accuracy: 0.9784 - val_loss: 0.2794 - val_accuracy: 0.9030\n",
            "Epoch 41/50\n",
            "13/13 [==============================] - 21s 2s/step - loss: 0.0712 - accuracy: 0.9856 - val_loss: 0.4553 - val_accuracy: 0.8806\n",
            "Epoch 42/50\n",
            "13/13 [==============================] - 21s 2s/step - loss: 0.0535 - accuracy: 0.9832 - val_loss: 0.3198 - val_accuracy: 0.8881\n",
            "Epoch 43/50\n",
            "13/13 [==============================] - 21s 2s/step - loss: 0.0440 - accuracy: 0.9856 - val_loss: 0.3278 - val_accuracy: 0.8955\n",
            "Epoch 44/50\n",
            "13/13 [==============================] - 21s 2s/step - loss: 0.0362 - accuracy: 0.9880 - val_loss: 0.3049 - val_accuracy: 0.8955\n",
            "Epoch 45/50\n",
            "13/13 [==============================] - 21s 2s/step - loss: 0.0368 - accuracy: 0.9904 - val_loss: 0.2328 - val_accuracy: 0.9104\n",
            "Epoch 46/50\n",
            "13/13 [==============================] - 21s 2s/step - loss: 0.0414 - accuracy: 0.9880 - val_loss: 0.3775 - val_accuracy: 0.8731\n",
            "Epoch 47/50\n",
            "13/13 [==============================] - 21s 2s/step - loss: 0.0588 - accuracy: 0.9736 - val_loss: 0.4408 - val_accuracy: 0.8731\n",
            "Epoch 48/50\n",
            "13/13 [==============================] - 21s 2s/step - loss: 0.0365 - accuracy: 0.9952 - val_loss: 0.2880 - val_accuracy: 0.8881\n",
            "Epoch 49/50\n",
            "13/13 [==============================] - 21s 2s/step - loss: 0.0256 - accuracy: 0.9928 - val_loss: 0.3852 - val_accuracy: 0.8806\n",
            "Epoch 50/50\n",
            "13/13 [==============================] - 21s 2s/step - loss: 0.0339 - accuracy: 0.9880 - val_loss: 0.6147 - val_accuracy: 0.8731\n"
          ]
        }
      ],
      "source": [
        "# fit the model\n",
        "r = model.fit_generator(\n",
        "  training_set,\n",
        "  validation_data=test_set,\n",
        "  epochs=50,\n",
        "  steps_per_epoch=len(training_set),\n",
        "  validation_steps=len(test_set)\n",
        ")"
      ]
    },
    {
      "cell_type": "markdown",
      "metadata": {
        "id": "b1ujOxwUBwKy"
      },
      "source": []
    },
    {
      "cell_type": "code",
      "execution_count": null,
      "metadata": {
        "colab": {
          "base_uri": "https://localhost:8080/",
          "height": 530
        },
        "id": "e4NIHB1L-HE8",
        "outputId": "ce8cd90b-5e5b-4a14-c5bf-2248846a7d5a"
      },
      "outputs": [
        {
          "output_type": "display_data",
          "data": {
            "text/plain": [
              "<Figure size 432x288 with 1 Axes>"
            ],
            "image/png": "[encoded data removed]"
          },
          "metadata": {
            "needs_background": "light"
          }
        },
        {
          "output_type": "display_data",
          "data": {
            "text/plain": [
              "<Figure size 432x288 with 1 Axes>"
            ],
            "image/png": "[encoded data removed]"
          },
          "metadata": {
            "needs_background": "light"
          }
        },
        {
          "output_type": "display_data",
          "data": {
            "text/plain": [
              "<Figure size 432x288 with 0 Axes>"
            ]
          },
          "metadata": {}
        }
      ],
      "source": [
        "# plot the loss\n",
        "plt.plot(r.history['loss'], label='train loss')\n",
        "plt.plot(r.history['val_loss'], label='val loss')\n",
        "plt.legend()\n",
        "plt.show()\n",
        "plt.savefig('LossVal_loss')\n",
        "\n",
        "# plot the accuracy\n",
        "plt.plot(r.history['accuracy'], label='train acc')\n",
        "plt.plot(r.history['val_accuracy'], label='val acc')\n",
        "plt.legend()\n",
        "plt.show()\n",
        "plt.savefig('AccVal_acc')"
      ]
    },
    {
      "cell_type": "code",
      "execution_count": null,
      "metadata": {
        "id": "6y6aNWOs-OxL"
      },
      "outputs": [],
      "source": [
        "# save it as a h5 file\n",
        "\n",
        "\n",
        "from tensorflow.keras.models import load_model\n",
        "\n",
        "model.save('model_vgg19.h5')"
      ]
    },
    {
      "cell_type": "code",
      "execution_count": null,
      "metadata": {
        "id": "jN8ZpjUx-QtC"
      },
      "outputs": [],
      "source": [
        "y_pred = model.predict(test_set)"
      ]
    },
    {
      "cell_type": "code",
      "execution_count": null,
      "metadata": {
        "colab": {
          "base_uri": "https://localhost:8080/"
        },
        "id": "ZDBPp5Eq-Shr",
        "outputId": "69a24e59-7de7-45f0-9c6a-04591c167699"
      },
      "outputs": [
        {
          "output_type": "execute_result",
          "data": {
            "text/plain": [
              "array([[1.00000000e+00, 1.60342655e-08],\n",
              "       [3.06371693e-03, 9.96936321e-01],\n",
              "       [7.08949342e-02, 9.29105043e-01],\n",
              "       [9.68207419e-01, 3.17925550e-02],\n",
              "       [9.99996424e-01, 3.58644570e-06],\n",
              "       [1.00000000e+00, 6.52475518e-10],\n",
              "       [9.99956727e-01, 4.33297864e-05],\n",
              "       [4.02183796e-04, 9.99597847e-01],\n",
              "       [1.00000000e+00, 1.25845472e-16],\n",
              "       [3.72732000e-04, 9.99627233e-01],\n",
              "       [4.57161659e-04, 9.99542832e-01],\n",
              "       [9.99993801e-01, 6.25708162e-06],\n",
              "       [7.27769861e-04, 9.99272287e-01],\n",
              "       [9.99940753e-01, 5.92410761e-05],\n",
              "       [9.99087572e-01, 9.12468182e-04],\n",
              "       [2.43138493e-05, 9.99975681e-01],\n",
              "       [6.23900024e-03, 9.93761003e-01],\n",
              "       [9.99617577e-01, 3.82399972e-04],\n",
              "       [9.99755323e-01, 2.44676106e-04],\n",
              "       [3.17546110e-05, 9.99968290e-01],\n",
              "       [9.99970675e-01, 2.93281482e-05],\n",
              "       [6.92181347e-05, 9.99930739e-01],\n",
              "       [1.28632202e-03, 9.98713732e-01],\n",
              "       [9.99956846e-01, 4.31169683e-05],\n",
              "       [5.84044494e-02, 9.41595554e-01],\n",
              "       [7.86194205e-02, 9.21380579e-01],\n",
              "       [9.99995947e-01, 4.10364737e-06],\n",
              "       [9.99952912e-01, 4.71210478e-05],\n",
              "       [1.97246252e-03, 9.98027503e-01],\n",
              "       [9.99999881e-01, 7.85965284e-08],\n",
              "       [9.99827623e-01, 1.72318323e-04],\n",
              "       [9.93659794e-01, 6.34024991e-03],\n",
              "       [1.00000000e+00, 2.41304310e-10],\n",
              "       [1.13239163e-03, 9.98867631e-01],\n",
              "       [1.01693206e-01, 8.98306787e-01],\n",
              "       [9.98239875e-01, 1.76010351e-03],\n",
              "       [9.99963284e-01, 3.66635868e-05],\n",
              "       [3.82824123e-01, 6.17175877e-01],\n",
              "       [9.99999285e-01, 6.75338811e-07],\n",
              "       [2.92919436e-03, 9.97070789e-01],\n",
              "       [3.51639710e-06, 9.99996543e-01],\n",
              "       [5.95024880e-03, 9.94049788e-01],\n",
              "       [1.51210539e-02, 9.84878957e-01],\n",
              "       [2.17711247e-04, 9.99782264e-01],\n",
              "       [6.00334432e-04, 9.99399662e-01],\n",
              "       [1.00000000e+00, 1.42375015e-15],\n",
              "       [9.92776871e-01, 7.22317677e-03],\n",
              "       [5.23155904e-05, 9.99947667e-01],\n",
              "       [5.01078591e-02, 9.49892163e-01],\n",
              "       [4.44182158e-01, 5.55817842e-01],\n",
              "       [4.41591619e-05, 9.99955893e-01],\n",
              "       [6.26671255e-01, 3.73328656e-01],\n",
              "       [4.05122386e-03, 9.95948792e-01],\n",
              "       [8.15499588e-05, 9.99918461e-01],\n",
              "       [9.99991298e-01, 8.67564995e-06],\n",
              "       [3.35757737e-03, 9.96642470e-01],\n",
              "       [2.15948388e-01, 7.84051597e-01],\n",
              "       [1.00000000e+00, 9.77641687e-13],\n",
              "       [3.73033108e-04, 9.99626994e-01],\n",
              "       [9.99960899e-01, 3.90775494e-05],\n",
              "       [9.03636456e-01, 9.63635221e-02],\n",
              "       [2.66498420e-03, 9.97335017e-01],\n",
              "       [9.99753296e-01, 2.46656506e-04],\n",
              "       [9.98090565e-01, 1.90942339e-03],\n",
              "       [9.99685884e-01, 3.14138626e-04],\n",
              "       [9.99490857e-01, 5.09154575e-04],\n",
              "       [3.29089700e-03, 9.96709108e-01],\n",
              "       [2.99853133e-03, 9.97001469e-01],\n",
              "       [8.40571702e-01, 1.59428269e-01],\n",
              "       [9.99404907e-01, 5.95146674e-04],\n",
              "       [1.00000000e+00, 8.73993855e-09],\n",
              "       [9.99998450e-01, 1.54250392e-06],\n",
              "       [2.24833511e-05, 9.99977469e-01],\n",
              "       [9.92737353e-01, 7.26268208e-03],\n",
              "       [1.13127974e-03, 9.98868644e-01],\n",
              "       [3.51011790e-02, 9.64898765e-01],\n",
              "       [4.09999713e-02, 9.58999991e-01],\n",
              "       [4.55838308e-04, 9.99544084e-01],\n",
              "       [4.74286973e-02, 9.52571332e-01],\n",
              "       [1.00757135e-03, 9.98992383e-01],\n",
              "       [9.96593297e-01, 3.40663269e-03],\n",
              "       [1.00000000e+00, 2.57166068e-18],\n",
              "       [9.99994636e-01, 5.38710310e-06],\n",
              "       [4.80400020e-04, 9.99519587e-01],\n",
              "       [9.99994874e-01, 5.16086993e-06],\n",
              "       [1.42560131e-03, 9.98574376e-01],\n",
              "       [9.99999046e-01, 9.48393847e-07],\n",
              "       [1.00000000e+00, 2.45156201e-10],\n",
              "       [9.99881268e-01, 1.18757736e-04],\n",
              "       [6.24286185e-04, 9.99375761e-01],\n",
              "       [9.99758780e-01, 2.41172762e-04],\n",
              "       [9.99999523e-01, 4.95455481e-07],\n",
              "       [9.99933362e-01, 6.66234482e-05],\n",
              "       [2.99256935e-04, 9.99700785e-01],\n",
              "       [6.71907968e-04, 9.99328136e-01],\n",
              "       [1.59835399e-04, 9.99840140e-01],\n",
              "       [9.99027967e-01, 9.72030277e-04],\n",
              "       [9.99933243e-01, 6.67842542e-05],\n",
              "       [9.99887705e-01, 1.12293841e-04],\n",
              "       [9.62520204e-03, 9.90374744e-01],\n",
              "       [9.13716722e-05, 9.99908566e-01],\n",
              "       [9.99999523e-01, 4.33726882e-07],\n",
              "       [9.99384522e-01, 6.15483616e-04],\n",
              "       [5.77948231e-04, 9.99422073e-01],\n",
              "       [9.96354461e-01, 3.64557491e-03],\n",
              "       [1.94827317e-06, 9.99998093e-01],\n",
              "       [9.99976158e-01, 2.37915938e-05],\n",
              "       [1.00000000e+00, 5.31793143e-13],\n",
              "       [3.19854909e-04, 9.99680161e-01],\n",
              "       [2.92205322e-03, 9.97077942e-01],\n",
              "       [9.99999881e-01, 6.52131433e-08],\n",
              "       [2.71272194e-03, 9.97287273e-01],\n",
              "       [9.99869943e-01, 1.30014218e-04],\n",
              "       [9.99998569e-01, 1.48794993e-06],\n",
              "       [1.00000000e+00, 1.11963692e-08],\n",
              "       [9.99999762e-01, 2.64757801e-07],\n",
              "       [9.98830616e-01, 1.16935035e-03],\n",
              "       [9.93908763e-01, 6.09125150e-03],\n",
              "       [9.99998450e-01, 1.57038960e-06],\n",
              "       [9.99682188e-01, 3.17838625e-04],\n",
              "       [1.00000000e+00, 2.19985141e-10],\n",
              "       [9.99864101e-01, 1.35862880e-04],\n",
              "       [9.99631286e-01, 3.68673092e-04],\n",
              "       [9.99979734e-01, 2.03057079e-05],\n",
              "       [9.99828577e-01, 1.71430584e-04],\n",
              "       [9.99910951e-01, 8.90896044e-05],\n",
              "       [9.99482870e-01, 5.17086883e-04],\n",
              "       [9.86140128e-03, 9.90138650e-01],\n",
              "       [5.46401460e-03, 9.94536042e-01],\n",
              "       [1.73956389e-03, 9.98260438e-01],\n",
              "       [9.99792039e-01, 2.07980440e-04],\n",
              "       [7.04232778e-04, 9.99295712e-01],\n",
              "       [4.67745168e-03, 9.95322526e-01],\n",
              "       [9.99827623e-01, 1.72378321e-04]], dtype=float32)"
            ]
          },
          "metadata": {},
          "execution_count": 22
        }
      ],
      "source": [
        "y_pred"
      ]
    },
    {
      "cell_type": "code",
      "execution_count": null,
      "metadata": {
        "id": "j29QK34W-Wlz"
      },
      "outputs": [],
      "source": [
        "import numpy as np\n",
        "y_pred = np.argmax(y_pred, axis=1)"
      ]
    },
    {
      "cell_type": "code",
      "execution_count": null,
      "metadata": {
        "colab": {
          "base_uri": "https://localhost:8080/"
        },
        "id": "9XJQvAZ0-YxZ",
        "outputId": "f321cea8-bd59-484f-f3a7-474a1d3f703e"
      },
      "outputs": [
        {
          "output_type": "execute_result",
          "data": {
            "text/plain": [
              "array([0, 1, 1, 0, 0, 0, 0, 1, 0, 1, 1, 0, 1, 0, 0, 1, 1, 0, 0, 1, 0, 1,\n",
              "       1, 0, 1, 1, 0, 0, 1, 0, 0, 0, 0, 1, 1, 0, 0, 1, 0, 1, 1, 1, 1, 1,\n",
              "       1, 0, 0, 1, 1, 1, 1, 0, 1, 1, 0, 1, 1, 0, 1, 0, 0, 1, 0, 0, 0, 0,\n",
              "       1, 1, 0, 0, 0, 0, 1, 0, 1, 1, 1, 1, 1, 1, 0, 0, 0, 1, 0, 1, 0, 0,\n",
              "       0, 1, 0, 0, 0, 1, 1, 1, 0, 0, 0, 1, 1, 0, 0, 1, 0, 1, 0, 0, 1, 1,\n",
              "       0, 1, 0, 0, 0, 0, 0, 0, 0, 0, 0, 0, 0, 0, 0, 0, 0, 1, 1, 1, 0, 1,\n",
              "       1, 0])"
            ]
          },
          "metadata": {},
          "execution_count": 24
        }
      ],
      "source": [
        "y_pred"
      ]
    },
    {
      "cell_type": "code",
      "execution_count": null,
      "metadata": {
        "id": "mdB8PmRM-lvy"
      },
      "outputs": [],
      "source": [
        "from tensorflow.keras.models import load_model\n",
        "from tensorflow.keras.preprocessing import image"
      ]
    },
    {
      "cell_type": "code",
      "execution_count": null,
      "metadata": {
        "id": "ywiWNFEI-oeZ"
      },
      "outputs": [],
      "source": [
        "model=load_model('model_vgg19.h5')"
      ]
    },
    {
      "cell_type": "code",
      "execution_count": null,
      "metadata": {
        "id": "bMwlUEE1-qrB"
      },
      "outputs": [],
      "source": [
        "img=image.load_img('/content/drive/MyDrive/Dataset/Test/2.png',target_size=(224,224))"
      ]
    },
    {
      "cell_type": "code",
      "execution_count": null,
      "metadata": {
        "colab": {
          "base_uri": "https://localhost:8080/"
        },
        "id": "5-264ovY_cZ5",
        "outputId": "80a0c88d-41bf-4aec-b0e4-5afb85f45e7c"
      },
      "outputs": [
        {
          "output_type": "execute_result",
          "data": {
            "text/plain": [
              "array([[[0., 0., 0.],\n",
              "        [0., 0., 0.],\n",
              "        [0., 0., 0.],\n",
              "        ...,\n",
              "        [0., 0., 0.],\n",
              "        [0., 0., 0.],\n",
              "        [0., 0., 0.]],\n",
              "\n",
              "       [[0., 0., 0.],\n",
              "        [0., 0., 0.],\n",
              "        [0., 0., 0.],\n",
              "        ...,\n",
              "        [0., 0., 0.],\n",
              "        [0., 0., 0.],\n",
              "        [0., 0., 0.]],\n",
              "\n",
              "       [[0., 0., 0.],\n",
              "        [0., 0., 0.],\n",
              "        [0., 0., 0.],\n",
              "        ...,\n",
              "        [0., 0., 0.],\n",
              "        [0., 0., 0.],\n",
              "        [0., 0., 0.]],\n",
              "\n",
              "       ...,\n",
              "\n",
              "       [[0., 0., 0.],\n",
              "        [0., 0., 0.],\n",
              "        [0., 0., 0.],\n",
              "        ...,\n",
              "        [0., 0., 0.],\n",
              "        [0., 0., 0.],\n",
              "        [0., 0., 0.]],\n",
              "\n",
              "       [[0., 0., 0.],\n",
              "        [0., 0., 0.],\n",
              "        [0., 0., 0.],\n",
              "        ...,\n",
              "        [0., 0., 0.],\n",
              "        [0., 0., 0.],\n",
              "        [0., 0., 0.]],\n",
              "\n",
              "       [[0., 0., 0.],\n",
              "        [0., 0., 0.],\n",
              "        [0., 0., 0.],\n",
              "        ...,\n",
              "        [0., 0., 0.],\n",
              "        [0., 0., 0.],\n",
              "        [0., 0., 0.]]], dtype=float32)"
            ]
          },
          "metadata": {},
          "execution_count": 28
        }
      ],
      "source": [
        "x=image.img_to_array(img)\n",
        "x"
      ]
    },
    {
      "cell_type": "code",
      "execution_count": null,
      "metadata": {
        "colab": {
          "base_uri": "https://localhost:8080/"
        },
        "id": "IVK9nQAE_frt",
        "outputId": "bdecaa3c-f755-42eb-af25-a1df72b9035b"
      },
      "outputs": [
        {
          "output_type": "execute_result",
          "data": {
            "text/plain": [
              "(224, 224, 3)"
            ]
          },
          "metadata": {},
          "execution_count": 29
        }
      ],
      "source": [
        "x.shape"
      ]
    },
    {
      "cell_type": "code",
      "execution_count": null,
      "metadata": {
        "id": "MIyFX7B2_cgc"
      },
      "outputs": [],
      "source": [
        "x=x/255"
      ]
    },
    {
      "cell_type": "code",
      "execution_count": null,
      "metadata": {
        "colab": {
          "base_uri": "https://localhost:8080/"
        },
        "id": "fVxqFIGj_ci5",
        "outputId": "2aeb943a-a24a-4b53-b5c1-b6d2b1835905"
      },
      "outputs": [
        {
          "output_type": "execute_result",
          "data": {
            "text/plain": [
              "(1, 224, 224, 3)"
            ]
          },
          "metadata": {},
          "execution_count": 31
        }
      ],
      "source": [
        "x=np.expand_dims(x,axis=0)\n",
        "img_data=preprocess_input(x)\n",
        "img_data.shape"
      ]
    },
    {
      "cell_type": "code",
      "execution_count": null,
      "metadata": {
        "colab": {
          "base_uri": "https://localhost:8080/"
        },
        "id": "N05iDdqV_cmR",
        "outputId": "b8890779-dabb-44c7-891c-8ec769e349f7"
      },
      "outputs": [
        {
          "output_type": "execute_result",
          "data": {
            "text/plain": [
              "array([[0., 1.]], dtype=float32)"
            ]
          },
          "metadata": {},
          "execution_count": 32
        }
      ],
      "source": [
        "model.predict(img_data)"
      ]
    },
    {
      "cell_type": "code",
      "execution_count": null,
      "metadata": {
        "id": "FkBHpg4g_cpH"
      },
      "outputs": [],
      "source": [
        "a=np.argmax(model.predict(img_data), axis=1)"
      ]
    },
    {
      "cell_type": "code",
      "execution_count": null,
      "metadata": {
        "colab": {
          "base_uri": "https://localhost:8080/"
        },
        "id": "qvNtN7Yu_n0U",
        "outputId": "a0f1f78f-1c62-4819-a09e-f0fb1c4a607f"
      },
      "outputs": [
        {
          "output_type": "stream",
          "name": "stdout",
          "text": [
            "Uninfected\n"
          ]
        }
      ],
      "source": [
        "if(a==1):\n",
        "    print(\"Uninfected\")\n",
        "else:\n",
        "    print(\"Infected\")"
      ]
    }
  ],
  "metadata": {
    "colab": {
      "provenance": []
    },
    "kernelspec": {
      "display_name": "Python 3",
      "name": "python3"
    },
    "language_info": {
      "name": "python"
    }
  },
  "nbformat": 4,
  "nbformat_minor": 0
}